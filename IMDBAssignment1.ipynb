{
  "nbformat": 4,
  "nbformat_minor": 0,
  "metadata": {
    "colab": {
      "name": "IMDBAssignment1.ipynb",
      "provenance": [],
      "collapsed_sections": [
        "b282lX-Kca7u",
        "gu_Q--lXKmpy",
        "jNsWaQOcHj1F",
        "RFQaAL8lLl0T",
        "Gjx5r_QEFpS2"
      ],
      "toc_visible": true,
      "machine_shape": "hm",
      "include_colab_link": true
    },
    "kernelspec": {
      "name": "python3",
      "display_name": "Python 3"
    }
  },
  "cells": [
    {
      "cell_type": "markdown",
      "metadata": {
        "id": "view-in-github",
        "colab_type": "text"
      },
      "source": [
        "<a href=\"https://colab.research.google.com/github/mbruner3/64061_mbruner3/blob/master/IMDBAssignment1.ipynb\" target=\"_parent\"><img src=\"https://colab.research.google.com/assets/colab-badge.svg\" alt=\"Open In Colab\"/></a>"
      ]
    },
    {
      "cell_type": "markdown",
      "metadata": {
        "id": "uMJgPwqjHbf2"
      },
      "source": [
        "# **ASSIGNMENT #1: NEURAL NETWORKS**\r\n",
        "*Advanced Machine Learning <br>\r\n",
        "Course # 64061 <br>*\r\n",
        "Mark Bruner\r\n"
      ]
    },
    {
      "cell_type": "markdown",
      "metadata": {
        "id": "fwSz_WXdUx1E"
      },
      "source": [
        "**NOTE:** Use the table of contents to navigate around my assignment."
      ]
    },
    {
      "cell_type": "markdown",
      "metadata": {
        "id": "ShVqX7ZeVK1d"
      },
      "source": [
        "## **ASSIGNMENT CONCLUSIONS**"
      ]
    },
    {
      "cell_type": "markdown",
      "metadata": {
        "id": "e9CDlQCu2TEC"
      },
      "source": [
        "### **SINGLE & THREE LAYER CONCLUSIONS:**\r\n",
        "\r\n",
        "**Single Layer**\r\n",
        "Removing a layer caused the validation loss to increase slowly and not as quickly as the initial model with two layers. \r\n",
        "\r\n",
        "**Three Layer**\r\n",
        "The three layer model caused the validation loss to increase more quickly compared to the other two models. The range in 8 epochs was from 0.28 to 0.41 whereas the initial model was from 0.26 to 0.36. Also, the loss curve was jumping around and didn't maintain a specific predictable pattern. \r\n",
        "\r\n"
      ]
    },
    {
      "cell_type": "markdown",
      "metadata": {
        "id": "-BPpjNJzkWZs"
      },
      "source": [
        "### **MORE & LESS HIDDEN UNITS CONCLUSIONS**\r\n",
        "\r\n",
        "**More Hidden Units**\r\n",
        "Increasing the number of hidden units caused my to increase quickly and overfit earlier.\r\n",
        "\r\n",
        "**Less Hidden Units**\r\n",
        "The validation loss for less number of hidden units caused the validation loss to follow closely the train loss curve until epoch 4. After that the validation loss became greater while the train loss converged to almost 0. The overfitting happened a lot slower."
      ]
    },
    {
      "cell_type": "markdown",
      "metadata": {
        "id": "6NlIz3kp9K-N"
      },
      "source": [
        "### **MSE CONCLUSIONS**\n",
        "\n",
        "Mean Squared Error performed better than the other models with a validation loss of only 0.1092 a significant improvement. However, MSE is not a good loss classifier for a classification problem. The reason is that it asssumes a normal distribution but obviously that is not true for a binary classification. Also, this classifier does not perform well on non-convex functions like our Sigmoid function because it will get \"stuck\" and will not be able to find the minimum.  "
      ]
    },
    {
      "cell_type": "markdown",
      "metadata": {
        "id": "eRqIZ_jFAkzJ"
      },
      "source": [
        "### **TANH CONCLUSIONS**\n",
        "tanh Activation function did a decent job as the validation loss but to me it seems like the relu function caused the model to overfit more quickly. "
      ]
    },
    {
      "cell_type": "markdown",
      "metadata": {
        "id": "yq8sWYrxP1dG"
      },
      "source": [
        "### **LAST MODEL OPTIMIZATION CONCLUSIONS**\n",
        "I used dropouts of .5 and .1 to reduce the validation loss by a very small amount compared to Chollet's model. By like 0.002, which that is after trying to add layers, remove units, add units, trying different regularizers, and different batch sizes. Nothing really seemed to make it much better but I am sure there is a way. I just couldn't do it and after spending 40 hours on this assignment I think I need to let it go and be happy with my 0.002 less than Chollet lowest on Epoch 3!  "
      ]
    },
    {
      "cell_type": "markdown",
      "metadata": {
        "id": "b282lX-Kca7u"
      },
      "source": [
        "## **Importing Libraries, Loading Datasets, Vectorizing Data**"
      ]
    },
    {
      "cell_type": "code",
      "metadata": {
        "id": "GM0fWuoMXcWE"
      },
      "source": [
        "import keras # importing keras library.\r\n",
        "import numpy as np # importing numpy library."
      ],
      "execution_count": null,
      "outputs": []
    },
    {
      "cell_type": "code",
      "metadata": {
        "colab": {
          "base_uri": "https://localhost:8080/"
        },
        "id": "_JJPig9nzTQo",
        "outputId": "9f39ef9b-f94a-4959-e6f3-c9a2f7c9f1ef"
      },
      "source": [
        "from keras.datasets import imdb # loading IMDB dataset from Keras.\n",
        "\n",
        "(train_data, train_labels), (test_data, test_labels) = imdb.load_data(num_words=10000)\n",
        "data = np.concatenate((train_data, test_data), axis=0)\n",
        "labels = np.concatenate((train_labels, test_labels), axis=0)"
      ],
      "execution_count": null,
      "outputs": [
        {
          "output_type": "stream",
          "text": [
            "<string>:6: VisibleDeprecationWarning: Creating an ndarray from ragged nested sequences (which is a list-or-tuple of lists-or-tuples-or ndarrays with different lengths or shapes) is deprecated. If you meant to do this, you must specify 'dtype=object' when creating the ndarray\n",
            "/usr/local/lib/python3.6/dist-packages/tensorflow/python/keras/datasets/imdb.py:159: VisibleDeprecationWarning: Creating an ndarray from ragged nested sequences (which is a list-or-tuple of lists-or-tuples-or ndarrays with different lengths or shapes) is deprecated. If you meant to do this, you must specify 'dtype=object' when creating the ndarray\n",
            "  x_train, y_train = np.array(xs[:idx]), np.array(labels[:idx])\n",
            "/usr/local/lib/python3.6/dist-packages/tensorflow/python/keras/datasets/imdb.py:160: VisibleDeprecationWarning: Creating an ndarray from ragged nested sequences (which is a list-or-tuple of lists-or-tuples-or ndarrays with different lengths or shapes) is deprecated. If you meant to do this, you must specify 'dtype=object' when creating the ndarray\n",
            "  x_test, y_test = np.array(xs[idx:]), np.array(labels[idx:])\n"
          ],
          "name": "stderr"
        }
      ]
    },
    {
      "cell_type": "code",
      "metadata": {
        "colab": {
          "base_uri": "https://localhost:8080/"
        },
        "id": "VussZBUq0Egz",
        "outputId": "01729117-912b-481a-fcc5-c28181ebd814"
      },
      "source": [
        "print(\"Categories:\", np.unique(labels)) # Determining the categories within the dataset.\r\n",
        "print(\"Number of unique words:\", len(np.unique(np.hstack(data)))) # Showing the number of unique words in the dataset."
      ],
      "execution_count": null,
      "outputs": [
        {
          "output_type": "stream",
          "text": [
            "Categories: [0 1]\n",
            "Number of unique words: 9998\n"
          ],
          "name": "stdout"
        }
      ]
    },
    {
      "cell_type": "code",
      "metadata": {
        "colab": {
          "base_uri": "https://localhost:8080/"
        },
        "id": "z0wjSQ0N0goi",
        "outputId": "bc866965-e588-4e38-a2c1-1e379dac8f64"
      },
      "source": [
        "length = [len(i) for i in data] # Caluculating the average review length and sd.\r\n",
        "print(\"Average Review length:\", np.mean(length))\r\n",
        "print(\"Standard Deviation:\", round(np.std(length)))"
      ],
      "execution_count": null,
      "outputs": [
        {
          "output_type": "stream",
          "text": [
            "Average Review length: 234.75892\n",
            "Standard Deviation: 173\n"
          ],
          "name": "stdout"
        }
      ]
    },
    {
      "cell_type": "code",
      "metadata": {
        "id": "BA33IP1fL87H"
      },
      "source": [
        "def vectorize(sequences, dimension = 10000): # vectorizing the dataset.\r\n",
        "  results = np.zeros((len(sequences), dimension))\r\n",
        "  for i, sequence in enumerate(sequences):\r\n",
        "    results[i, sequence] = 1\r\n",
        "  return results\r\n",
        " \r\n",
        "data = vectorize(data)\r\n",
        "labels = np.array(labels).astype(\"float32\")"
      ],
      "execution_count": null,
      "outputs": []
    },
    {
      "cell_type": "code",
      "metadata": {
        "colab": {
          "base_uri": "https://localhost:8080/"
        },
        "id": "7C0jjwLKzZHt",
        "outputId": "e1afc248-e5cc-468b-a96b-a1dba191ecf0"
      },
      "source": [
        "data.shape # showing the size of the dataset."
      ],
      "execution_count": null,
      "outputs": [
        {
          "output_type": "execute_result",
          "data": {
            "text/plain": [
              "(50000, 10000)"
            ]
          },
          "metadata": {
            "tags": []
          },
          "execution_count": 6
        }
      ]
    },
    {
      "cell_type": "code",
      "metadata": {
        "id": "LyypH7Fw1Izn"
      },
      "source": [
        "from sklearn.model_selection import train_test_split\r\n",
        "\r\n",
        "# Creating train, test, and validation sets using train_test_split.\r\n",
        "# Split the data\r\n",
        "x_train_val, x_test, y_train_val, y_test = train_test_split(data, labels, test_size=0.2, shuffle= True)\r\n",
        "x_train, x_val, y_train, y_val = train_test_split(x_train_val, y_train_val, test_size=0.25, shuffle= True)\r\n"
      ],
      "execution_count": null,
      "outputs": []
    },
    {
      "cell_type": "code",
      "metadata": {
        "colab": {
          "base_uri": "https://localhost:8080/"
        },
        "id": "Gd8BRLzTy1vx",
        "outputId": "f2dc09ea-2567-4a90-8b58-64fbbc08a7b2"
      },
      "source": [
        "x_test.shape # showing the shape of the test."
      ],
      "execution_count": null,
      "outputs": [
        {
          "output_type": "execute_result",
          "data": {
            "text/plain": [
              "(10000, 10000)"
            ]
          },
          "metadata": {
            "tags": []
          },
          "execution_count": 9
        }
      ]
    },
    {
      "cell_type": "code",
      "metadata": {
        "id": "C3tzAhH5WIu3",
        "colab": {
          "base_uri": "https://localhost:8080/"
        },
        "outputId": "3946ed96-d237-4a05-c2d1-074ab7a33863"
      },
      "source": [
        "x_val.shape # showing the shape of the validation."
      ],
      "execution_count": null,
      "outputs": [
        {
          "output_type": "execute_result",
          "data": {
            "text/plain": [
              "(10000, 10000)"
            ]
          },
          "metadata": {
            "tags": []
          },
          "execution_count": 132
        }
      ]
    },
    {
      "cell_type": "code",
      "metadata": {
        "colab": {
          "base_uri": "https://localhost:8080/"
        },
        "id": "ZlksSHDa39PV",
        "outputId": "7d8184bc-c156-46f5-c864-aa1625911ea6"
      },
      "source": [
        "x_train.shape # showing the shape of the train."
      ],
      "execution_count": null,
      "outputs": [
        {
          "output_type": "execute_result",
          "data": {
            "text/plain": [
              "(30000, 10000)"
            ]
          },
          "metadata": {
            "tags": []
          },
          "execution_count": 10
        }
      ]
    },
    {
      "cell_type": "code",
      "metadata": {
        "id": "At5TaV8rWOiZ"
      },
      "source": [
        ""
      ],
      "execution_count": null,
      "outputs": []
    },
    {
      "cell_type": "markdown",
      "metadata": {
        "id": "3naKkbUKyHw_"
      },
      "source": [
        "## **PART 1:**"
      ]
    },
    {
      "cell_type": "markdown",
      "metadata": {
        "id": "_NXwRWskyHxD"
      },
      "source": [
        "### **Initial Model: Chollet's Model**"
      ]
    },
    {
      "cell_type": "code",
      "metadata": {
        "id": "sYp-ZzEQFCWN"
      },
      "source": [
        "from keras import models\n",
        "from keras import layers\n",
        "\n",
        "model = models.Sequential()\n",
        "model.add(layers.Dense(16, activation='relu', input_shape=(10000, )))\n",
        "model.add(layers.Dense(16, activation='relu'))\n",
        "model.add(layers.Dense(1, activation='sigmoid'))"
      ],
      "execution_count": null,
      "outputs": []
    },
    {
      "cell_type": "code",
      "metadata": {
        "id": "3Id3VFAEFCWO"
      },
      "source": [
        "model.compile(optimizer='rmsprop',\n",
        "              loss='binary_crossentropy',\n",
        "              metrics=['accuracy'])"
      ],
      "execution_count": null,
      "outputs": []
    },
    {
      "cell_type": "markdown",
      "metadata": {
        "id": "mwNrINLuyHxE"
      },
      "source": [
        "<a name=\"initial-valid-output\"></a>\r\n",
        "#### **Train & Validation Output**"
      ]
    },
    {
      "cell_type": "code",
      "metadata": {
        "id": "VsK_VSZVyHxF",
        "colab": {
          "base_uri": "https://localhost:8080/"
        },
        "outputId": "3a75d9a4-ce11-4997-c55f-6325ad7535b3"
      },
      "source": [
        "history = model.fit(x_train,\n",
        "                    y_train,\n",
        "                    epochs=8,\n",
        "                    batch_size=512,\n",
        "                    validation_data=(x_val, y_val))\n"
      ],
      "execution_count": null,
      "outputs": [
        {
          "output_type": "stream",
          "text": [
            "Epoch 1/8\n",
            "59/59 [==============================] - 2s 25ms/step - loss: 0.5563 - accuracy: 0.7508 - val_loss: 0.3195 - val_accuracy: 0.8853\n",
            "Epoch 2/8\n",
            "59/59 [==============================] - 1s 17ms/step - loss: 0.2780 - accuracy: 0.9052 - val_loss: 0.2673 - val_accuracy: 0.8945\n",
            "Epoch 3/8\n",
            "59/59 [==============================] - 1s 17ms/step - loss: 0.2114 - accuracy: 0.9244 - val_loss: 0.2580 - val_accuracy: 0.8975\n",
            "Epoch 4/8\n",
            "59/59 [==============================] - 1s 17ms/step - loss: 0.1710 - accuracy: 0.9420 - val_loss: 0.2700 - val_accuracy: 0.8939\n",
            "Epoch 5/8\n",
            "59/59 [==============================] - 1s 17ms/step - loss: 0.1529 - accuracy: 0.9478 - val_loss: 0.2896 - val_accuracy: 0.8902\n",
            "Epoch 6/8\n",
            "59/59 [==============================] - 1s 17ms/step - loss: 0.1390 - accuracy: 0.9524 - val_loss: 0.3051 - val_accuracy: 0.8891\n",
            "Epoch 7/8\n",
            "59/59 [==============================] - 1s 17ms/step - loss: 0.1221 - accuracy: 0.9592 - val_loss: 0.3153 - val_accuracy: 0.8876\n",
            "Epoch 8/8\n",
            "59/59 [==============================] - 1s 17ms/step - loss: 0.1059 - accuracy: 0.9654 - val_loss: 0.3325 - val_accuracy: 0.8848\n"
          ],
          "name": "stdout"
        }
      ]
    },
    {
      "cell_type": "code",
      "metadata": {
        "id": "-U_hfN4EyHxF",
        "colab": {
          "base_uri": "https://localhost:8080/"
        },
        "outputId": "302032fe-82ee-4675-f8e7-6ae89becc31a"
      },
      "source": [
        "history_dict = history.history\r\n",
        "history_dict.keys()"
      ],
      "execution_count": null,
      "outputs": [
        {
          "output_type": "execute_result",
          "data": {
            "text/plain": [
              "dict_keys(['loss', 'accuracy', 'val_loss', 'val_accuracy'])"
            ]
          },
          "metadata": {
            "tags": []
          },
          "execution_count": 16
        }
      ]
    },
    {
      "cell_type": "markdown",
      "metadata": {
        "id": "QifZIWfZyHxG"
      },
      "source": [
        "<a name=\"initial-plots\"></a>\r\n",
        "#### **Output Plots**"
      ]
    },
    {
      "cell_type": "code",
      "metadata": {
        "id": "-EXPkFgzyHxG",
        "colab": {
          "base_uri": "https://localhost:8080/",
          "height": 295
        },
        "outputId": "d3de80f1-8eea-4b87-923b-8990549dfa17"
      },
      "source": [
        "import matplotlib.pyplot as plt\n",
        "\n",
        "acc = history.history['accuracy']\n",
        "val_acc = history.history['val_accuracy']\n",
        "loss = history.history['loss']\n",
        "val_loss = history.history['val_loss']\n",
        "\n",
        "epochs = range(1, len(acc) + 1)\n",
        "\n",
        "# \"bo\" is for \"blue dot\"\n",
        "plt.plot(epochs, loss, 'r', label='Training loss')\n",
        "# b is for \"solid blue line\"\n",
        "plt.plot(epochs, val_loss, 'b', label='Validation loss')\n",
        "plt.title('Training and validation loss')\n",
        "plt.xlabel('Epochs')\n",
        "plt.ylabel('Loss')\n",
        "plt.legend()\n",
        "\n",
        "plt.show()"
      ],
      "execution_count": null,
      "outputs": [
        {
          "output_type": "display_data",
          "data": {
            "image/png": "[encoded data removed]",
            "text/plain": [
              "<Figure size 432x288 with 1 Axes>"
            ]
          },
          "metadata": {
            "tags": [],
            "needs_background": "light"
          }
        }
      ]
    },
    {
      "cell_type": "code",
      "metadata": {
        "id": "Ud7FKLndyHxG",
        "colab": {
          "base_uri": "https://localhost:8080/",
          "height": 295
        },
        "outputId": "691fabf4-41d3-4f5c-9573-94bd6736d387"
      },
      "source": [
        "plt.clf()   # clear figure\n",
        "acc_values = history_dict['accuracy']\n",
        "val_acc_values = history_dict['val_accuracy']\n",
        "\n",
        "plt.plot(epochs, acc, 'r', label='Training acc')\n",
        "plt.plot(epochs, val_acc, 'b', label='Validation acc')\n",
        "plt.title('Training and validation accuracy')\n",
        "plt.xlabel('Epochs')\n",
        "plt.ylabel('Loss')\n",
        "plt.legend()\n",
        "\n",
        "plt.show()"
      ],
      "execution_count": null,
      "outputs": [
        {
          "output_type": "display_data",
          "data": {
            "image/png": "[encoded data removed]",
            "text/plain": [
              "<Figure size 432x288 with 1 Axes>"
            ]
          },
          "metadata": {
            "tags": [],
            "needs_background": "light"
          }
        }
      ]
    },
    {
      "cell_type": "code",
      "metadata": {
        "id": "mD3YlmLlQOEX"
      },
      "source": [
        "model = models.Sequential()\n",
        "model.add(layers.Dense(16, activation='relu', input_shape=(10000, )))\n",
        "model.add(layers.Dense(16, activation='relu'))\n",
        "model.add(layers.Dense(1, activation='sigmoid'))"
      ],
      "execution_count": null,
      "outputs": []
    },
    {
      "cell_type": "code",
      "metadata": {
        "id": "uNW51C2mQOEX"
      },
      "source": [
        "model.compile(optimizer='rmsprop',\n",
        "              loss='binary_crossentropy',\n",
        "              metrics=['accuracy'])"
      ],
      "execution_count": null,
      "outputs": []
    },
    {
      "cell_type": "code",
      "metadata": {
        "colab": {
          "base_uri": "https://localhost:8080/"
        },
        "id": "eT6vghNgQDjJ",
        "outputId": "8dd1f1d4-53b5-4ae4-cc80-9855ad3c2ee0"
      },
      "source": [
        "model.fit(x_train_val, y_train_val, epochs=4, batch_size=512)\n",
        "results = model.evaluate(x_test, y_test)"
      ],
      "execution_count": null,
      "outputs": [
        {
          "output_type": "stream",
          "text": [
            "Epoch 1/4\n",
            "79/79 [==============================] - 2s 14ms/step - loss: 0.5150 - accuracy: 0.7742\n",
            "Epoch 2/4\n",
            "79/79 [==============================] - 1s 14ms/step - loss: 0.2446 - accuracy: 0.9117\n",
            "Epoch 3/4\n",
            "79/79 [==============================] - 1s 14ms/step - loss: 0.1982 - accuracy: 0.9270\n",
            "Epoch 4/4\n",
            "79/79 [==============================] - 1s 14ms/step - loss: 0.1727 - accuracy: 0.9372\n",
            "313/313 [==============================] - 1s 3ms/step - loss: 0.2723 - accuracy: 0.8942\n"
          ],
          "name": "stdout"
        }
      ]
    },
    {
      "cell_type": "code",
      "metadata": {
        "colab": {
          "base_uri": "https://localhost:8080/"
        },
        "id": "uQ4VbIAiQDjM",
        "outputId": "07aa10fa-777c-4b72-ca9c-3f51ef03c3f5"
      },
      "source": [
        "results\n"
      ],
      "execution_count": null,
      "outputs": [
        {
          "output_type": "execute_result",
          "data": {
            "text/plain": [
              "[0.2722981572151184, 0.8942000269889832]"
            ]
          },
          "metadata": {
            "tags": []
          },
          "execution_count": 22
        }
      ]
    },
    {
      "cell_type": "markdown",
      "metadata": {
        "id": "XzClvTvH9Xum"
      },
      "source": [
        "## **PART 2:**"
      ]
    },
    {
      "cell_type": "markdown",
      "metadata": {
        "id": "mUX2NIYSLDcQ"
      },
      "source": [
        "### **Single Layer Neural Network**"
      ]
    },
    {
      "cell_type": "code",
      "metadata": {
        "id": "Op0M9LaKFSwm"
      },
      "source": [
        "from keras import models\n",
        "from keras import layers\n",
        "\n",
        "model = models.Sequential()\n",
        "model.add(layers.Dense(16, activation='relu', input_shape=(10000, )))\n",
        "model.add(layers.Dense(1, activation='sigmoid'))"
      ],
      "execution_count": null,
      "outputs": []
    },
    {
      "cell_type": "code",
      "metadata": {
        "id": "ydpbvDNxFo_A"
      },
      "source": [
        "model.compile(optimizer='rmsprop',\n",
        "              loss='binary_crossentropy',\n",
        "              metrics=['accuracy'])"
      ],
      "execution_count": null,
      "outputs": []
    },
    {
      "cell_type": "markdown",
      "metadata": {
        "id": "7ng2-xVavqZT"
      },
      "source": [
        "<a name=\"single-valid-output\"></a>\r\n",
        "#### **Train & Validation Output**"
      ]
    },
    {
      "cell_type": "code",
      "metadata": {
        "id": "FTjFBUAjFo_B",
        "colab": {
          "base_uri": "https://localhost:8080/"
        },
        "outputId": "3189eac7-f586-45b3-e9b0-7a0caaa26d39"
      },
      "source": [
        "history = model.fit(x_train,\n",
        "                    y_train,\n",
        "                    epochs=8,\n",
        "                    batch_size=512,\n",
        "                    validation_data=(x_val, y_val))\n"
      ],
      "execution_count": null,
      "outputs": [
        {
          "output_type": "stream",
          "text": [
            "Epoch 1/8\n",
            "59/59 [==============================] - 2s 21ms/step - loss: 0.5298 - accuracy: 0.7544 - val_loss: 0.3232 - val_accuracy: 0.8895\n",
            "Epoch 2/8\n",
            "59/59 [==============================] - 1s 16ms/step - loss: 0.2823 - accuracy: 0.9045 - val_loss: 0.2722 - val_accuracy: 0.8970\n",
            "Epoch 3/8\n",
            "59/59 [==============================] - 1s 17ms/step - loss: 0.2155 - accuracy: 0.9265 - val_loss: 0.2611 - val_accuracy: 0.8988\n",
            "Epoch 4/8\n",
            "59/59 [==============================] - 1s 17ms/step - loss: 0.1905 - accuracy: 0.9328 - val_loss: 0.2632 - val_accuracy: 0.8989\n",
            "Epoch 5/8\n",
            "59/59 [==============================] - 1s 17ms/step - loss: 0.1638 - accuracy: 0.9446 - val_loss: 0.2666 - val_accuracy: 0.8933\n",
            "Epoch 6/8\n",
            "59/59 [==============================] - 1s 17ms/step - loss: 0.1495 - accuracy: 0.9507 - val_loss: 0.2727 - val_accuracy: 0.8962\n",
            "Epoch 7/8\n",
            "59/59 [==============================] - 1s 17ms/step - loss: 0.1397 - accuracy: 0.9526 - val_loss: 0.2822 - val_accuracy: 0.8929\n",
            "Epoch 8/8\n",
            "59/59 [==============================] - 1s 17ms/step - loss: 0.1282 - accuracy: 0.9578 - val_loss: 0.2981 - val_accuracy: 0.8868\n"
          ],
          "name": "stdout"
        }
      ]
    },
    {
      "cell_type": "code",
      "metadata": {
        "id": "eNjisH5T9LkH",
        "colab": {
          "base_uri": "https://localhost:8080/"
        },
        "outputId": "78c84bb5-cda4-4ac9-a0ea-2d7172d59c19"
      },
      "source": [
        "history_dict = history.history\r\n",
        "history_dict.keys()"
      ],
      "execution_count": null,
      "outputs": [
        {
          "output_type": "execute_result",
          "data": {
            "text/plain": [
              "dict_keys(['loss', 'accuracy', 'val_loss', 'val_accuracy'])"
            ]
          },
          "metadata": {
            "tags": []
          },
          "execution_count": 22
        }
      ]
    },
    {
      "cell_type": "markdown",
      "metadata": {
        "id": "iH5DYIeYvdvp"
      },
      "source": [
        "<a name=\"single-plots\"></a>\r\n",
        "#### **Output Plots**"
      ]
    },
    {
      "cell_type": "code",
      "metadata": {
        "id": "pGMujVrbFxbl",
        "colab": {
          "base_uri": "https://localhost:8080/",
          "height": 295
        },
        "outputId": "084310f8-ae9a-4c81-8dd5-0471bff98715"
      },
      "source": [
        "import matplotlib.pyplot as plt\n",
        "\n",
        "acc = history.history['accuracy']\n",
        "val_acc = history.history['val_accuracy']\n",
        "loss = history.history['loss']\n",
        "val_loss = history.history['val_loss']\n",
        "\n",
        "epochs = range(1, len(acc) + 1)\n",
        "\n",
        "# \"bo\" is for \"blue dot\"\n",
        "plt.plot(epochs, loss, 'r', label='Training loss')\n",
        "# b is for \"solid blue line\"\n",
        "plt.plot(epochs, val_loss, 'b', label='Validation loss')\n",
        "plt.title('Training and validation loss')\n",
        "plt.xlabel('Epochs')\n",
        "plt.ylabel('Loss')\n",
        "plt.legend()\n",
        "\n",
        "plt.show()"
      ],
      "execution_count": null,
      "outputs": [
        {
          "output_type": "display_data",
          "data": {
            "image/png": "[encoded data removed]",
            "text/plain": [
              "<Figure size 432x288 with 1 Axes>"
            ]
          },
          "metadata": {
            "tags": [],
            "needs_background": "light"
          }
        }
      ]
    },
    {
      "cell_type": "code",
      "metadata": {
        "id": "a5kOim67Fxbt",
        "colab": {
          "base_uri": "https://localhost:8080/",
          "height": 295
        },
        "outputId": "c17f4a84-b6ae-4963-8bc8-a930fdd3838f"
      },
      "source": [
        "plt.clf()   # clear figure\n",
        "acc_values = history_dict['accuracy']\n",
        "val_acc_values = history_dict['val_accuracy']\n",
        "\n",
        "plt.plot(epochs, acc, 'r', label='Training acc')\n",
        "plt.plot(epochs, val_acc, 'b', label='Validation acc')\n",
        "plt.title('Training and validation accuracy')\n",
        "plt.xlabel('Epochs')\n",
        "plt.ylabel('Loss')\n",
        "plt.legend()\n",
        "\n",
        "plt.show()"
      ],
      "execution_count": null,
      "outputs": [
        {
          "output_type": "display_data",
          "data": {
            "image/png": "[encoded data removed]",
            "text/plain": [
              "<Figure size 432x288 with 1 Axes>"
            ]
          },
          "metadata": {
            "tags": [],
            "needs_background": "light"
          }
        }
      ]
    },
    {
      "cell_type": "markdown",
      "metadata": {
        "id": "ZbNsM1vaGLYy"
      },
      "source": [
        "<a name=\"three-test-output\"></a>\r\n",
        "### **Three Layer Neural Network**"
      ]
    },
    {
      "cell_type": "code",
      "metadata": {
        "id": "OK4PFtbtGLYz"
      },
      "source": [
        "from keras import models\n",
        "from keras import layers\n",
        "\n",
        "model = models.Sequential()\n",
        "model.add(layers.Dense(16, activation='relu', input_shape=(10000, )))\n",
        "model.add(layers.Dense(16, activation='relu'))\n",
        "model.add(layers.Dense(16, activation='relu'))\n",
        "model.add(layers.Dense(1, activation='sigmoid'))"
      ],
      "execution_count": null,
      "outputs": []
    },
    {
      "cell_type": "code",
      "metadata": {
        "id": "lFrycCfD-V03"
      },
      "source": [
        "model.compile(optimizer='rmsprop',\r\n",
        "              loss='binary_crossentropy',\r\n",
        "              metrics=['accuracy'])"
      ],
      "execution_count": null,
      "outputs": []
    },
    {
      "cell_type": "markdown",
      "metadata": {
        "id": "MnxsCOT5bszq"
      },
      "source": [
        "<a name=\"three-valid-output\"></a>\n",
        "#### **Train & Validation Output**"
      ]
    },
    {
      "cell_type": "code",
      "metadata": {
        "id": "aBumab8tGLY1",
        "colab": {
          "base_uri": "https://localhost:8080/"
        },
        "outputId": "1349883f-4845-468e-b3ac-277c568a3c42"
      },
      "source": [
        "history = model.fit(x_train,\n",
        "                    y_train,\n",
        "                    epochs=8,\n",
        "                    batch_size=512,\n",
        "                    validation_data=(x_val, y_val))\n"
      ],
      "execution_count": null,
      "outputs": [
        {
          "output_type": "stream",
          "text": [
            "Epoch 1/8\n",
            "59/59 [==============================] - 2s 21ms/step - loss: 0.5511 - accuracy: 0.7455 - val_loss: 0.3093 - val_accuracy: 0.8874\n",
            "Epoch 2/8\n",
            "59/59 [==============================] - 1s 17ms/step - loss: 0.2594 - accuracy: 0.9083 - val_loss: 0.2756 - val_accuracy: 0.8909\n",
            "Epoch 3/8\n",
            "59/59 [==============================] - 1s 17ms/step - loss: 0.2006 - accuracy: 0.9266 - val_loss: 0.2640 - val_accuracy: 0.8974\n",
            "Epoch 4/8\n",
            "59/59 [==============================] - 1s 17ms/step - loss: 0.1593 - accuracy: 0.9422 - val_loss: 0.2781 - val_accuracy: 0.8929\n",
            "Epoch 5/8\n",
            "59/59 [==============================] - 1s 17ms/step - loss: 0.1461 - accuracy: 0.9475 - val_loss: 0.3366 - val_accuracy: 0.8787\n",
            "Epoch 6/8\n",
            "59/59 [==============================] - 1s 22ms/step - loss: 0.1328 - accuracy: 0.9516 - val_loss: 0.3246 - val_accuracy: 0.8888\n",
            "Epoch 7/8\n",
            "59/59 [==============================] - 1s 17ms/step - loss: 0.1112 - accuracy: 0.9607 - val_loss: 0.3515 - val_accuracy: 0.8813\n",
            "Epoch 8/8\n",
            "59/59 [==============================] - 1s 17ms/step - loss: 0.0980 - accuracy: 0.9664 - val_loss: 0.3642 - val_accuracy: 0.8833\n"
          ],
          "name": "stdout"
        }
      ]
    },
    {
      "cell_type": "code",
      "metadata": {
        "id": "ZeOIO9EBoOIS",
        "colab": {
          "base_uri": "https://localhost:8080/"
        },
        "outputId": "f6ea51fa-5923-4d29-8953-59637eed7b28"
      },
      "source": [
        "history_dict = history.history\n",
        "history_dict.keys()"
      ],
      "execution_count": null,
      "outputs": [
        {
          "output_type": "execute_result",
          "data": {
            "text/plain": [
              "dict_keys(['loss', 'accuracy', 'val_loss', 'val_accuracy'])"
            ]
          },
          "metadata": {
            "tags": []
          },
          "execution_count": 28
        }
      ]
    },
    {
      "cell_type": "markdown",
      "metadata": {
        "id": "o2glT9OhcDZE"
      },
      "source": [
        "<a name=\"three-plots\"></a>\n",
        "#### **Output Plots**"
      ]
    },
    {
      "cell_type": "code",
      "metadata": {
        "id": "CzFea9kFGLY1",
        "colab": {
          "base_uri": "https://localhost:8080/",
          "height": 295
        },
        "outputId": "acaaa688-11ee-4e4e-ccf4-bdcfd9e4164d"
      },
      "source": [
        "import matplotlib.pyplot as plt\n",
        "\n",
        "acc = history.history['accuracy']\n",
        "val_acc = history.history['val_accuracy']\n",
        "loss = history.history['loss']\n",
        "val_loss = history.history['val_loss']\n",
        "\n",
        "epochs = range(1, len(acc) + 1)\n",
        "\n",
        "# \"r\" is for \"red line\"\n",
        "plt.plot(epochs, loss, 'r', label='Training loss')\n",
        "# b is for \"solid blue line\"\n",
        "plt.plot(epochs, val_loss, 'b', label='Validation loss')\n",
        "plt.title('Training and validation loss')\n",
        "plt.xlabel('Epochs')\n",
        "plt.ylabel('Loss')\n",
        "plt.legend()\n",
        "\n",
        "plt.show()"
      ],
      "execution_count": null,
      "outputs": [
        {
          "output_type": "display_data",
          "data": {
            "image/png": "[encoded data removed]",
            "text/plain": [
              "<Figure size 432x288 with 1 Axes>"
            ]
          },
          "metadata": {
            "tags": [],
            "needs_background": "light"
          }
        }
      ]
    },
    {
      "cell_type": "code",
      "metadata": {
        "id": "ZUmOOpFmGLY2",
        "colab": {
          "base_uri": "https://localhost:8080/",
          "height": 295
        },
        "outputId": "ee2995de-9764-48bb-8321-0d7490ddf9b1"
      },
      "source": [
        "plt.clf()   # clear figure\n",
        "acc_values = history_dict['accuracy']\n",
        "val_acc_values = history_dict['val_accuracy']\n",
        "\n",
        "plt.plot(epochs, acc, 'r', label='Training acc')\n",
        "plt.plot(epochs, val_acc, 'b', label='Validation acc')\n",
        "plt.title('Training and validation accuracy')\n",
        "plt.xlabel('Epochs')\n",
        "plt.ylabel('Loss')\n",
        "plt.legend()\n",
        "\n",
        "plt.show()"
      ],
      "execution_count": null,
      "outputs": [
        {
          "output_type": "display_data",
          "data": {
            "image/png": "[encoded data removed]",
            "text/plain": [
              "<Figure size 432x288 with 1 Axes>"
            ]
          },
          "metadata": {
            "tags": [],
            "needs_background": "light"
          }
        }
      ]
    },
    {
      "cell_type": "markdown",
      "metadata": {
        "id": "gu_Q--lXKmpy"
      },
      "source": [
        "## **PART 3**:"
      ]
    },
    {
      "cell_type": "markdown",
      "metadata": {
        "id": "Lx9bIDnnLCPi"
      },
      "source": [
        "### **More Hidden Units**\r\n",
        "\r\n",
        "---\r\n",
        "\r\n"
      ]
    },
    {
      "cell_type": "code",
      "metadata": {
        "id": "HPElmVybKmpz"
      },
      "source": [
        "from keras import models\n",
        "from keras import layers\n",
        "\n",
        "model = models.Sequential()\n",
        "model.add(layers.Dense(16, activation='relu', input_shape=(10000, )))\n",
        "model.add(layers.Dense(64, activation='relu'))\n",
        "model.add(layers.Dense(1, activation='sigmoid'))"
      ],
      "execution_count": null,
      "outputs": []
    },
    {
      "cell_type": "code",
      "metadata": {
        "id": "SG4vev3f-m-m"
      },
      "source": [
        "model.compile(optimizer='rmsprop',\r\n",
        "              loss='binary_crossentropy',\r\n",
        "              metrics=['accuracy'])"
      ],
      "execution_count": null,
      "outputs": []
    },
    {
      "cell_type": "markdown",
      "metadata": {
        "id": "49I_0nFekDv_"
      },
      "source": [
        "<a name=\"hidden-layer-valid-output\"></a>\r\n",
        "#### **Train & Validation Output**"
      ]
    },
    {
      "cell_type": "code",
      "metadata": {
        "id": "htPTZK9sKmp1",
        "colab": {
          "base_uri": "https://localhost:8080/"
        },
        "outputId": "e5f2434f-2dd7-4ac0-97dc-0246b39e0bfd"
      },
      "source": [
        "history = model.fit(x_train,\n",
        "                    y_train,\n",
        "                    epochs=8,\n",
        "                    batch_size=512,\n",
        "                    validation_data=(x_val, y_val))\n"
      ],
      "execution_count": null,
      "outputs": [
        {
          "output_type": "stream",
          "text": [
            "Epoch 1/8\n",
            "59/59 [==============================] - 2s 21ms/step - loss: 0.5255 - accuracy: 0.7407 - val_loss: 0.2994 - val_accuracy: 0.8830\n",
            "Epoch 2/8\n",
            "59/59 [==============================] - 1s 17ms/step - loss: 0.2452 - accuracy: 0.9091 - val_loss: 0.3135 - val_accuracy: 0.8731\n",
            "Epoch 3/8\n",
            "59/59 [==============================] - 1s 17ms/step - loss: 0.1880 - accuracy: 0.9313 - val_loss: 0.2672 - val_accuracy: 0.8951\n",
            "Epoch 4/8\n",
            "59/59 [==============================] - 1s 17ms/step - loss: 0.1577 - accuracy: 0.9432 - val_loss: 0.2849 - val_accuracy: 0.8919\n",
            "Epoch 5/8\n",
            "59/59 [==============================] - 1s 17ms/step - loss: 0.1365 - accuracy: 0.9506 - val_loss: 0.3044 - val_accuracy: 0.8883\n",
            "Epoch 6/8\n",
            "59/59 [==============================] - 1s 17ms/step - loss: 0.1286 - accuracy: 0.9544 - val_loss: 0.3231 - val_accuracy: 0.8877\n",
            "Epoch 7/8\n",
            "59/59 [==============================] - 1s 17ms/step - loss: 0.1133 - accuracy: 0.9595 - val_loss: 0.3544 - val_accuracy: 0.8836\n",
            "Epoch 8/8\n",
            "59/59 [==============================] - 1s 17ms/step - loss: 0.1028 - accuracy: 0.9645 - val_loss: 0.4371 - val_accuracy: 0.8631\n"
          ],
          "name": "stdout"
        }
      ]
    },
    {
      "cell_type": "code",
      "metadata": {
        "colab": {
          "base_uri": "https://localhost:8080/"
        },
        "id": "MNbUTOSti2It",
        "outputId": "e8a38339-6549-474e-8d65-dc076896031b"
      },
      "source": [
        "history_dict = history.history\r\n",
        "history_dict.keys()"
      ],
      "execution_count": null,
      "outputs": [
        {
          "output_type": "execute_result",
          "data": {
            "text/plain": [
              "dict_keys(['loss', 'accuracy', 'val_loss', 'val_accuracy'])"
            ]
          },
          "metadata": {
            "tags": []
          },
          "execution_count": 34
        }
      ]
    },
    {
      "cell_type": "markdown",
      "metadata": {
        "id": "AFAiqjdukfWC"
      },
      "source": [
        "<a name=\"more-hidden-plots\"></a>\r\n",
        "#### **Plots**"
      ]
    },
    {
      "cell_type": "code",
      "metadata": {
        "id": "VSq4FaAnKmp2",
        "colab": {
          "base_uri": "https://localhost:8080/",
          "height": 295
        },
        "outputId": "19dd7ea6-9afd-4b22-f8fb-ee2b2de9aa12"
      },
      "source": [
        "import matplotlib.pyplot as plt\n",
        "\n",
        "acc = history.history['accuracy']\n",
        "val_acc = history.history['val_accuracy']\n",
        "loss = history.history['loss']\n",
        "val_loss = history.history['val_loss']\n",
        "\n",
        "epochs = range(1, len(acc) + 1)\n",
        "\n",
        "# \"r\" is for \"red line\"\n",
        "plt.plot(epochs, loss, 'r', label='Training loss')\n",
        "# b is for \"solid blue line\"\n",
        "plt.plot(epochs, val_loss, 'b', label='Validation loss')\n",
        "plt.title('Training and validation loss')\n",
        "plt.xlabel('Epochs')\n",
        "plt.ylabel('Loss')\n",
        "plt.legend()\n",
        "\n",
        "plt.show()"
      ],
      "execution_count": null,
      "outputs": [
        {
          "output_type": "display_data",
          "data": {
            "image/png": "[encoded data removed]",
            "text/plain": [
              "<Figure size 432x288 with 1 Axes>"
            ]
          },
          "metadata": {
            "tags": [],
            "needs_background": "light"
          }
        }
      ]
    },
    {
      "cell_type": "code",
      "metadata": {
        "id": "gfqCAQ7BKmp2",
        "colab": {
          "base_uri": "https://localhost:8080/",
          "height": 295
        },
        "outputId": "824cc153-333b-4fd6-d784-95221809c73f"
      },
      "source": [
        "plt.clf()   # clear figure\n",
        "acc_values = history_dict['accuracy']\n",
        "val_acc_values = history_dict['val_accuracy']\n",
        "\n",
        "plt.plot(epochs, acc, 'r', label='Training acc')\n",
        "plt.plot(epochs, val_acc, 'b', label='Validation acc')\n",
        "plt.title('Training and validation accuracy')\n",
        "plt.xlabel('Epochs')\n",
        "plt.ylabel('Loss')\n",
        "plt.legend()\n",
        "\n",
        "plt.show()"
      ],
      "execution_count": null,
      "outputs": [
        {
          "output_type": "display_data",
          "data": {
            "image/png": "[encoded data removed]",
            "text/plain": [
              "<Figure size 432x288 with 1 Axes>"
            ]
          },
          "metadata": {
            "tags": [],
            "needs_background": "light"
          }
        }
      ]
    },
    {
      "cell_type": "markdown",
      "metadata": {
        "id": "rg_rUvlnLZQS"
      },
      "source": [
        "### **Less hidden units**\r\n",
        "\r\n",
        "---\r\n",
        "\r\n"
      ]
    },
    {
      "cell_type": "code",
      "metadata": {
        "id": "wNPNFjefLc8d"
      },
      "source": [
        "from keras import models\n",
        "from keras import layers\n",
        "\n",
        "model = models.Sequential()\n",
        "model.add(layers.Dense(16, activation='relu', input_shape=(10000, )))\n",
        "model.add(layers.Dense(4, activation='relu'))\n",
        "model.add(layers.Dense(1, activation='sigmoid'))"
      ],
      "execution_count": null,
      "outputs": []
    },
    {
      "cell_type": "code",
      "metadata": {
        "id": "Wewwxv4B-yev"
      },
      "source": [
        "model.compile(optimizer='rmsprop',\r\n",
        "              loss='binary_crossentropy',\r\n",
        "              metrics=['accuracy'])"
      ],
      "execution_count": null,
      "outputs": []
    },
    {
      "cell_type": "markdown",
      "metadata": {
        "id": "ys0uDTbf7CnH"
      },
      "source": [
        "<a name=\"less-hidden-layer-valid-output\"></a>\n",
        "#### **Train & Validation Output**"
      ]
    },
    {
      "cell_type": "code",
      "metadata": {
        "id": "wQ-6GNWqLc8f",
        "colab": {
          "base_uri": "https://localhost:8080/"
        },
        "outputId": "feb7f3c1-22c4-4927-d08b-04005a0f15d1"
      },
      "source": [
        "history = model.fit(x_train,\n",
        "                    y_train,\n",
        "                    epochs=8,\n",
        "                    batch_size=512,\n",
        "                    validation_data=(x_val, y_val))"
      ],
      "execution_count": null,
      "outputs": [
        {
          "output_type": "stream",
          "text": [
            "Epoch 1/8\n",
            "59/59 [==============================] - 2s 22ms/step - loss: 0.6058 - accuracy: 0.6962 - val_loss: 0.4972 - val_accuracy: 0.8330\n",
            "Epoch 2/8\n",
            "59/59 [==============================] - 1s 18ms/step - loss: 0.4731 - accuracy: 0.8707 - val_loss: 0.4564 - val_accuracy: 0.8722\n",
            "Epoch 3/8\n",
            "59/59 [==============================] - 1s 18ms/step - loss: 0.3955 - accuracy: 0.9103 - val_loss: 0.3363 - val_accuracy: 0.8963\n",
            "Epoch 4/8\n",
            "59/59 [==============================] - 1s 18ms/step - loss: 0.2632 - accuracy: 0.9348 - val_loss: 0.2803 - val_accuracy: 0.8971\n",
            "Epoch 5/8\n",
            "59/59 [==============================] - 1s 18ms/step - loss: 0.2015 - accuracy: 0.9417 - val_loss: 0.2740 - val_accuracy: 0.8943\n",
            "Epoch 6/8\n",
            "59/59 [==============================] - 1s 19ms/step - loss: 0.1716 - accuracy: 0.9495 - val_loss: 0.2732 - val_accuracy: 0.8937\n",
            "Epoch 7/8\n",
            "59/59 [==============================] - 1s 18ms/step - loss: 0.1488 - accuracy: 0.9549 - val_loss: 0.2828 - val_accuracy: 0.8904\n",
            "Epoch 8/8\n",
            "59/59 [==============================] - 1s 17ms/step - loss: 0.1345 - accuracy: 0.9601 - val_loss: 0.2932 - val_accuracy: 0.8922\n"
          ],
          "name": "stdout"
        }
      ]
    },
    {
      "cell_type": "code",
      "metadata": {
        "colab": {
          "base_uri": "https://localhost:8080/"
        },
        "id": "cTDE0dq6lnsI",
        "outputId": "c6f4bc88-4a81-4e6b-826e-55116f393251"
      },
      "source": [
        "history_dict = history.history\r\n",
        "history_dict.keys()"
      ],
      "execution_count": null,
      "outputs": [
        {
          "output_type": "execute_result",
          "data": {
            "text/plain": [
              "dict_keys(['loss', 'accuracy', 'val_loss', 'val_accuracy'])"
            ]
          },
          "metadata": {
            "tags": []
          },
          "execution_count": 40
        }
      ]
    },
    {
      "cell_type": "markdown",
      "metadata": {
        "id": "o6Z0P3xb7O6t"
      },
      "source": [
        "<a name=\"less-hidden-plot\"></a>\n",
        "#### **Plots**"
      ]
    },
    {
      "cell_type": "code",
      "metadata": {
        "id": "P177CS1BLc8g",
        "colab": {
          "base_uri": "https://localhost:8080/",
          "height": 295
        },
        "outputId": "ab899426-4ffe-43e8-df9a-6f12eb1cc04e"
      },
      "source": [
        "import matplotlib.pyplot as plt\n",
        "\n",
        "acc = history.history['accuracy']\n",
        "val_acc = history.history['val_accuracy']\n",
        "loss = history.history['loss']\n",
        "val_loss = history.history['val_loss']\n",
        "\n",
        "epochs = range(1, len(acc) + 1)\n",
        "\n",
        "# \"r\" is for \"red line\"\n",
        "plt.plot(epochs, loss, 'r', label='Training loss')\n",
        "# b is for \"solid blue line\"\n",
        "plt.plot(epochs, val_loss, 'b', label='Validation loss')\n",
        "plt.title('Training and validation loss')\n",
        "plt.xlabel('Epochs')\n",
        "plt.ylabel('Loss')\n",
        "plt.legend()\n",
        "\n",
        "plt.show()"
      ],
      "execution_count": null,
      "outputs": [
        {
          "output_type": "display_data",
          "data": {
            "image/png": "[encoded data removed]",
            "text/plain": [
              "<Figure size 432x288 with 1 Axes>"
            ]
          },
          "metadata": {
            "tags": [],
            "needs_background": "light"
          }
        }
      ]
    },
    {
      "cell_type": "code",
      "metadata": {
        "id": "g0RH6RwsLc8g",
        "colab": {
          "base_uri": "https://localhost:8080/",
          "height": 295
        },
        "outputId": "9824a910-4420-4491-d931-b1b35f2666df"
      },
      "source": [
        "plt.clf()   # clear figure\n",
        "acc_values = history_dict['accuracy']\n",
        "val_acc_values = history_dict['val_accuracy']\n",
        "\n",
        "plt.plot(epochs, acc, 'r', label='Training acc')\n",
        "plt.plot(epochs, val_acc, 'b', label='Validation acc')\n",
        "plt.title('Training and validation accuracy')\n",
        "plt.xlabel('Epochs')\n",
        "plt.ylabel('Loss')\n",
        "plt.legend()\n",
        "\n",
        "plt.show()"
      ],
      "execution_count": null,
      "outputs": [
        {
          "output_type": "display_data",
          "data": {
            "image/png": "[encoded data removed]",
            "text/plain": [
              "<Figure size 432x288 with 1 Axes>"
            ]
          },
          "metadata": {
            "tags": [],
            "needs_background": "light"
          }
        }
      ]
    },
    {
      "cell_type": "markdown",
      "metadata": {
        "id": "jNsWaQOcHj1F"
      },
      "source": [
        "## **PART 4:**"
      ]
    },
    {
      "cell_type": "markdown",
      "metadata": {
        "id": "IeyapgSf9cGv"
      },
      "source": [
        "###  **MSE Loss Function**"
      ]
    },
    {
      "cell_type": "code",
      "metadata": {
        "id": "O4i-TqjeI8To"
      },
      "source": [
        "from keras import models\n",
        "from keras import layers\n",
        "\n",
        "model = models.Sequential()\n",
        "model.add(layers.Dense(16, activation='relu', input_shape=(10000, )))\n",
        "model.add(layers.Dense(16, activation='relu'))\n",
        "model.add(layers.Dense(1, activation='sigmoid'))"
      ],
      "execution_count": null,
      "outputs": []
    },
    {
      "cell_type": "code",
      "metadata": {
        "id": "2v6jgL57I8Tq"
      },
      "source": [
        "model.compile(optimizer='rmsprop',\r\n",
        "              loss='mean_squared_error',\r\n",
        "              metrics=['accuracy'])"
      ],
      "execution_count": null,
      "outputs": []
    },
    {
      "cell_type": "markdown",
      "metadata": {
        "id": "fOhWL8S28ql9"
      },
      "source": [
        "<a name=\"MSE-valid-output\"></a>\n",
        "#### **Train & Validation Output**"
      ]
    },
    {
      "cell_type": "code",
      "metadata": {
        "id": "LHbNrrMmI8Tq",
        "colab": {
          "base_uri": "https://localhost:8080/"
        },
        "outputId": "e8eafca1-b054-4a3b-df58-8c4d8a4ce85c"
      },
      "source": [
        "history = model.fit(x_train,\n",
        "                    y_train,\n",
        "                    epochs=8,\n",
        "                    batch_size=512,\n",
        "                    validation_data=(x_val, y_val))\n"
      ],
      "execution_count": null,
      "outputs": [
        {
          "output_type": "stream",
          "text": [
            "Epoch 1/8\n",
            "59/59 [==============================] - 2s 21ms/step - loss: 0.1872 - accuracy: 0.7397 - val_loss: 0.0954 - val_accuracy: 0.8958\n",
            "Epoch 2/8\n",
            "59/59 [==============================] - 1s 17ms/step - loss: 0.0789 - accuracy: 0.9127 - val_loss: 0.0849 - val_accuracy: 0.8915\n",
            "Epoch 3/8\n",
            "59/59 [==============================] - 1s 22ms/step - loss: 0.0597 - accuracy: 0.9295 - val_loss: 0.0831 - val_accuracy: 0.8869\n",
            "Epoch 4/8\n",
            "59/59 [==============================] - 1s 17ms/step - loss: 0.0493 - accuracy: 0.9431 - val_loss: 0.0806 - val_accuracy: 0.8917\n",
            "Epoch 5/8\n",
            "59/59 [==============================] - 1s 17ms/step - loss: 0.0424 - accuracy: 0.9514 - val_loss: 0.0806 - val_accuracy: 0.8890\n",
            "Epoch 6/8\n",
            "59/59 [==============================] - 1s 16ms/step - loss: 0.0371 - accuracy: 0.9609 - val_loss: 0.0837 - val_accuracy: 0.8874\n",
            "Epoch 7/8\n",
            "59/59 [==============================] - 1s 17ms/step - loss: 0.0339 - accuracy: 0.9629 - val_loss: 0.0859 - val_accuracy: 0.8863\n",
            "Epoch 8/8\n",
            "59/59 [==============================] - 1s 17ms/step - loss: 0.0286 - accuracy: 0.9695 - val_loss: 0.0869 - val_accuracy: 0.8857\n"
          ],
          "name": "stdout"
        }
      ]
    },
    {
      "cell_type": "code",
      "metadata": {
        "colab": {
          "base_uri": "https://localhost:8080/"
        },
        "id": "uPe5ah0k-gwe",
        "outputId": "56a1fde9-3aba-4935-e3d1-2ed5e9c28967"
      },
      "source": [
        "history_dict = history.history\n",
        "history_dict.keys()"
      ],
      "execution_count": null,
      "outputs": [
        {
          "output_type": "execute_result",
          "data": {
            "text/plain": [
              "dict_keys(['loss', 'accuracy', 'val_loss', 'val_accuracy'])"
            ]
          },
          "metadata": {
            "tags": []
          },
          "execution_count": 46
        }
      ]
    },
    {
      "cell_type": "markdown",
      "metadata": {
        "id": "LAq4EFlW8yXr"
      },
      "source": [
        "<a name=\"MSE-valid-output\"></a>\n",
        "#### **Plots**"
      ]
    },
    {
      "cell_type": "code",
      "metadata": {
        "id": "62_Ap88wI8Tr",
        "colab": {
          "base_uri": "https://localhost:8080/",
          "height": 295
        },
        "outputId": "4ef0e6e4-e679-41ab-e9b8-7c68c65637ea"
      },
      "source": [
        "import matplotlib.pyplot as plt\n",
        "\n",
        "acc = history.history['accuracy']\n",
        "val_acc = history.history['val_accuracy']\n",
        "loss = history.history['loss']\n",
        "val_loss = history.history['val_loss']\n",
        "\n",
        "epochs = range(1, len(acc) + 1)\n",
        "\n",
        "# \"r\" is for \"red line\"\n",
        "plt.plot(epochs, loss, 'r', label='Training loss')\n",
        "# b is for \"solid blue line\"\n",
        "plt.plot(epochs, val_loss, 'b', label='Validation loss')\n",
        "plt.title('Training and validation loss')\n",
        "plt.xlabel('Epochs')\n",
        "plt.ylabel('Loss')\n",
        "plt.legend()\n",
        "\n",
        "plt.show()"
      ],
      "execution_count": null,
      "outputs": [
        {
          "output_type": "display_data",
          "data": {
            "image/png": "[encoded data removed]",
            "text/plain": [
              "<Figure size 432x288 with 1 Axes>"
            ]
          },
          "metadata": {
            "tags": [],
            "needs_background": "light"
          }
        }
      ]
    },
    {
      "cell_type": "code",
      "metadata": {
        "id": "kSb2Zt4WI8Tr",
        "colab": {
          "base_uri": "https://localhost:8080/",
          "height": 295
        },
        "outputId": "d8af0685-c4da-48ab-b38e-b50b6f091cbc"
      },
      "source": [
        "plt.clf()   # clear figure\n",
        "acc_values = history_dict['accuracy']\n",
        "val_acc_values = history_dict['val_accuracy']\n",
        "\n",
        "plt.plot(epochs, acc, 'r', label='Training acc')\n",
        "plt.plot(epochs, val_acc, 'b', label='Validation acc')\n",
        "plt.title('Training and validation accuracy')\n",
        "plt.xlabel('Epochs')\n",
        "plt.ylabel('Loss')\n",
        "plt.legend()\n",
        "\n",
        "plt.show()"
      ],
      "execution_count": null,
      "outputs": [
        {
          "output_type": "display_data",
          "data": {
            "image/png": "[encoded data removed]",
            "text/plain": [
              "<Figure size 432x288 with 1 Axes>"
            ]
          },
          "metadata": {
            "tags": [],
            "needs_background": "light"
          }
        }
      ]
    },
    {
      "cell_type": "markdown",
      "metadata": {
        "id": "RFQaAL8lLl0T"
      },
      "source": [
        "## **PART 5:**"
      ]
    },
    {
      "cell_type": "markdown",
      "metadata": {
        "id": "0viLiVoRCWHJ"
      },
      "source": [
        "### **tanh Activation Function**"
      ]
    },
    {
      "cell_type": "code",
      "metadata": {
        "id": "DXLOxU9pLl0X"
      },
      "source": [
        "from keras import models\n",
        "from keras import layers\n",
        "\n",
        "model = models.Sequential()\n",
        "model.add(layers.Dense(16, activation='tanh', input_shape=(10000, )))\n",
        "model.add(layers.Dense(16, activation='tanh'))\n",
        "model.add(layers.Dense(1, activation='sigmoid'))"
      ],
      "execution_count": null,
      "outputs": []
    },
    {
      "cell_type": "code",
      "metadata": {
        "id": "pKIPYDZNLl0X"
      },
      "source": [
        "model.compile(optimizer='rmsprop',\r\n",
        "              loss='binary_crossentropy',\r\n",
        "              metrics=['accuracy'])"
      ],
      "execution_count": null,
      "outputs": []
    },
    {
      "cell_type": "markdown",
      "metadata": {
        "id": "MFG8E6tVCeSl"
      },
      "source": [
        "#### **Train & Validation Output**"
      ]
    },
    {
      "cell_type": "code",
      "metadata": {
        "id": "-pAu6fA_Ll0X",
        "colab": {
          "base_uri": "https://localhost:8080/"
        },
        "outputId": "c5ea45a3-5775-4413-8f6a-f99b3461f07e"
      },
      "source": [
        "history = model.fit(x_train,\n",
        "                    y_train,\n",
        "                    epochs=8,\n",
        "                    batch_size=512,\n",
        "                    validation_data=(x_val, y_val))"
      ],
      "execution_count": null,
      "outputs": [
        {
          "output_type": "stream",
          "text": [
            "Epoch 1/8\n",
            "59/59 [==============================] - 2s 21ms/step - loss: 0.5135 - accuracy: 0.7742 - val_loss: 0.2970 - val_accuracy: 0.8873\n",
            "Epoch 2/8\n",
            "59/59 [==============================] - 1s 17ms/step - loss: 0.2418 - accuracy: 0.9116 - val_loss: 0.2710 - val_accuracy: 0.8898\n",
            "Epoch 3/8\n",
            "59/59 [==============================] - 1s 17ms/step - loss: 0.1836 - accuracy: 0.9318 - val_loss: 0.2736 - val_accuracy: 0.8944\n",
            "Epoch 4/8\n",
            "59/59 [==============================] - 1s 17ms/step - loss: 0.1558 - accuracy: 0.9443 - val_loss: 0.2878 - val_accuracy: 0.8926\n",
            "Epoch 5/8\n",
            "59/59 [==============================] - 1s 17ms/step - loss: 0.1325 - accuracy: 0.9544 - val_loss: 0.3276 - val_accuracy: 0.8829\n",
            "Epoch 6/8\n",
            "59/59 [==============================] - 1s 17ms/step - loss: 0.1175 - accuracy: 0.9608 - val_loss: 0.3268 - val_accuracy: 0.8879\n",
            "Epoch 7/8\n",
            "59/59 [==============================] - 1s 17ms/step - loss: 0.1119 - accuracy: 0.9635 - val_loss: 0.3458 - val_accuracy: 0.8822\n",
            "Epoch 8/8\n",
            "59/59 [==============================] - 1s 17ms/step - loss: 0.0999 - accuracy: 0.9673 - val_loss: 0.3656 - val_accuracy: 0.8804\n"
          ],
          "name": "stdout"
        }
      ]
    },
    {
      "cell_type": "code",
      "metadata": {
        "colab": {
          "base_uri": "https://localhost:8080/"
        },
        "id": "q69oe76yIdOB",
        "outputId": "c2b3f4b3-43dd-4584-e56a-752809a9eb35"
      },
      "source": [
        "history_dict = history.history\n",
        "history_dict.keys()"
      ],
      "execution_count": null,
      "outputs": [
        {
          "output_type": "execute_result",
          "data": {
            "text/plain": [
              "dict_keys(['loss', 'accuracy', 'val_loss', 'val_accuracy'])"
            ]
          },
          "metadata": {
            "tags": []
          },
          "execution_count": 52
        }
      ]
    },
    {
      "cell_type": "markdown",
      "metadata": {
        "id": "DjX9qhQLCtqX"
      },
      "source": [
        "#### **Plots**"
      ]
    },
    {
      "cell_type": "code",
      "metadata": {
        "id": "8u42HGGuLl0X",
        "colab": {
          "base_uri": "https://localhost:8080/",
          "height": 295
        },
        "outputId": "22061168-3674-4963-f9a6-188a0cca1cb8"
      },
      "source": [
        "import matplotlib.pyplot as plt\n",
        "\n",
        "acc = history.history['accuracy']\n",
        "val_acc = history.history['val_accuracy']\n",
        "loss = history.history['loss']\n",
        "val_loss = history.history['val_loss']\n",
        "\n",
        "epochs = range(1, len(acc) + 1)\n",
        "\n",
        "# \"r\" is for \"red line\"\n",
        "plt.plot(epochs, loss, 'r', label='Training loss')\n",
        "# b is for \"solid blue line\"\n",
        "plt.plot(epochs, val_loss, 'b', label='Validation loss')\n",
        "plt.title('Training and validation loss')\n",
        "plt.xlabel('Epochs')\n",
        "plt.ylabel('Loss')\n",
        "plt.legend()\n",
        "\n",
        "plt.show()"
      ],
      "execution_count": null,
      "outputs": [
        {
          "output_type": "display_data",
          "data": {
            "image/png": "[encoded data removed]",
            "text/plain": [
              "<Figure size 432x288 with 1 Axes>"
            ]
          },
          "metadata": {
            "tags": [],
            "needs_background": "light"
          }
        }
      ]
    },
    {
      "cell_type": "code",
      "metadata": {
        "id": "5KEnVltJLl0Y",
        "colab": {
          "base_uri": "https://localhost:8080/",
          "height": 295
        },
        "outputId": "f28527f2-27fd-4a78-9260-f86ce975d3f0"
      },
      "source": [
        "plt.clf()   # clear figure\n",
        "acc_values = history_dict['accuracy']\n",
        "val_acc_values = history_dict['val_accuracy']\n",
        "\n",
        "plt.plot(epochs, acc, 'r', label='Training acc')\n",
        "plt.plot(epochs, val_acc, 'b', label='Validation acc')\n",
        "plt.title('Training and validation accuracy')\n",
        "plt.xlabel('Epochs')\n",
        "plt.ylabel('Loss')\n",
        "plt.legend()\n",
        "\n",
        "plt.show()"
      ],
      "execution_count": null,
      "outputs": [
        {
          "output_type": "display_data",
          "data": {
            "image/png": "[encoded data removed]",
            "text/plain": [
              "<Figure size 432x288 with 1 Axes>"
            ]
          },
          "metadata": {
            "tags": [],
            "needs_background": "light"
          }
        }
      ]
    },
    {
      "cell_type": "markdown",
      "metadata": {
        "id": "3wBlzAQTFIZZ"
      },
      "source": [
        "## **PART 6:**"
      ]
    },
    {
      "cell_type": "markdown",
      "metadata": {
        "id": "enuMD81xFpSx"
      },
      "source": [
        "### **Optimizing Model: Regularization**"
      ]
    },
    {
      "cell_type": "code",
      "metadata": {
        "id": "omu_f03pXnPW"
      },
      "source": [
        "from keras import models\n",
        "from keras import layers\n",
        "from keras import regularizers\n",
        "from keras import optimizers\n",
        "\n",
        "\n",
        "model = models.Sequential()\n",
        "model.add(layers.Dense(16, activation='relu', input_shape=(10000, )))\n",
        "model.add(layers.Dropout(0.5))\n",
        "model.add(layers.Dense(16, activation='relu'))\n",
        "model.add(layers.Dropout(0.1))\n",
        "model.add(layers.Dense(1, activation='sigmoid'))\n"
      ],
      "execution_count": null,
      "outputs": []
    },
    {
      "cell_type": "code",
      "metadata": {
        "id": "ZEtoE5nFXnPW"
      },
      "source": [
        "model.compile(optimizer='rmsprop',\r\n",
        "              loss='binary_crossentropy',\r\n",
        "              metrics=['accuracy'])"
      ],
      "execution_count": null,
      "outputs": []
    },
    {
      "cell_type": "code",
      "metadata": {
        "colab": {
          "base_uri": "https://localhost:8080/"
        },
        "id": "nb9mWCu8XnPW",
        "outputId": "3997a2e1-74c2-46bf-cae8-4268d263c5b2"
      },
      "source": [
        "history = model.fit(x_train,\n",
        "                    y_train,\n",
        "                    epochs=8,\n",
        "                    batch_size=512,\n",
        "                    validation_data=(x_val, y_val))"
      ],
      "execution_count": null,
      "outputs": [
        {
          "output_type": "stream",
          "text": [
            "Epoch 1/8\n",
            "59/59 [==============================] - 2s 21ms/step - loss: 0.5947 - accuracy: 0.6813 - val_loss: 0.3509 - val_accuracy: 0.8725\n",
            "Epoch 2/8\n",
            "59/59 [==============================] - 1s 17ms/step - loss: 0.3605 - accuracy: 0.8601 - val_loss: 0.2712 - val_accuracy: 0.8923\n",
            "Epoch 3/8\n",
            "59/59 [==============================] - 1s 17ms/step - loss: 0.2685 - accuracy: 0.9008 - val_loss: 0.2560 - val_accuracy: 0.8963\n",
            "Epoch 4/8\n",
            "59/59 [==============================] - 1s 17ms/step - loss: 0.2327 - accuracy: 0.9169 - val_loss: 0.2579 - val_accuracy: 0.8967\n",
            "Epoch 5/8\n",
            "59/59 [==============================] - 1s 18ms/step - loss: 0.1952 - accuracy: 0.9334 - val_loss: 0.2718 - val_accuracy: 0.8960\n",
            "Epoch 6/8\n",
            "59/59 [==============================] - 1s 17ms/step - loss: 0.1771 - accuracy: 0.9370 - val_loss: 0.2980 - val_accuracy: 0.8885\n",
            "Epoch 7/8\n",
            "59/59 [==============================] - 1s 18ms/step - loss: 0.1563 - accuracy: 0.9468 - val_loss: 0.3000 - val_accuracy: 0.8957\n",
            "Epoch 8/8\n",
            "59/59 [==============================] - 1s 18ms/step - loss: 0.1442 - accuracy: 0.9501 - val_loss: 0.3095 - val_accuracy: 0.8933\n"
          ],
          "name": "stdout"
        }
      ]
    },
    {
      "cell_type": "code",
      "metadata": {
        "colab": {
          "base_uri": "https://localhost:8080/"
        },
        "id": "XOCjLwrRMn-j",
        "outputId": "d198ac36-42e2-4b0c-c0ca-e5b5faaf3129"
      },
      "source": [
        "history_dict = history.history\n",
        "history_dict.keys()"
      ],
      "execution_count": null,
      "outputs": [
        {
          "output_type": "execute_result",
          "data": {
            "text/plain": [
              "dict_keys(['loss', 'accuracy', 'val_loss', 'val_accuracy'])"
            ]
          },
          "metadata": {
            "tags": []
          },
          "execution_count": 130
        }
      ]
    },
    {
      "cell_type": "markdown",
      "metadata": {
        "id": "A8v_TFGCFpS0"
      },
      "source": [
        "### **Plots**"
      ]
    },
    {
      "cell_type": "code",
      "metadata": {
        "colab": {
          "base_uri": "https://localhost:8080/",
          "height": 295
        },
        "id": "XSGLxDEiFpS1",
        "outputId": "fe0c8709-427b-413f-8178-f06086e5b870"
      },
      "source": [
        "import matplotlib.pyplot as plt\n",
        "\n",
        "acc = history.history['accuracy']\n",
        "val_acc = history.history['val_accuracy']\n",
        "loss = history.history['loss']\n",
        "val_loss = history.history['val_loss']\n",
        "\n",
        "epochs = range(1, len(acc)+1)\n",
        "\n",
        "# \"r\" is for \"red line\"\n",
        "plt.plot(epochs, loss, 'r', label='Training loss')\n",
        "# b is for \"solid blue line\"\n",
        "plt.plot(epochs, val_loss, 'b', label='Validation loss')\n",
        "plt.title('Training and validation loss')\n",
        "plt.xlabel('Epochs')\n",
        "plt.ylabel('Loss')\n",
        "plt.legend()\n",
        "\n",
        "plt.show()"
      ],
      "execution_count": null,
      "outputs": [
        {
          "output_type": "display_data",
          "data": {
            "image/png": "[encoded data removed]",
            "text/plain": [
              "<Figure size 432x288 with 1 Axes>"
            ]
          },
          "metadata": {
            "tags": [],
            "needs_background": "light"
          }
        }
      ]
    },
    {
      "cell_type": "code",
      "metadata": {
        "colab": {
          "base_uri": "https://localhost:8080/",
          "height": 295
        },
        "id": "lh1gXcWJFpS1",
        "outputId": "6a15e10c-a6d8-4892-92ae-328d5857c7c9"
      },
      "source": [
        "plt.clf()   # clear figure\n",
        "acc = history.history['accuracy']\n",
        "val_acc = history.history['val_accuracy']\n",
        "\n",
        "plt.plot(epochs, acc, 'r', label='Training acc')\n",
        "plt.plot(epochs, val_acc, 'b', label='Validation acc')\n",
        "plt.title('Training and validation accuracy')\n",
        "plt.xlabel('Epochs')\n",
        "plt.ylabel('Loss')\n",
        "plt.legend()\n",
        "\n",
        "plt.show()"
      ],
      "execution_count": null,
      "outputs": [
        {
          "output_type": "display_data",
          "data": {
            "image/png": "[encoded data removed]",
            "text/plain": [
              "<Figure size 432x288 with 1 Axes>"
            ]
          },
          "metadata": {
            "tags": [],
            "needs_background": "light"
          }
        }
      ]
    },
    {
      "cell_type": "code",
      "metadata": {
        "id": "8hBIrVCqFpS2"
      },
      "source": [
        "model = models.Sequential()\n",
        "model.add(layers.Dense(16, kernel_regularizer=regularizers.l1(0.0000001), activation='relu', input_shape=(10000, )))\n",
        "model.add(layers.Dropout(0.5))\n",
        "model.add(layers.Dense(16, kernel_regularizer=regularizers.l1(0.0000001), activation='relu'))\n",
        "model.add(layers.Dropout(0.1))\n",
        "model.add(layers.Dense(1, activation='sigmoid'))"
      ],
      "execution_count": null,
      "outputs": []
    },
    {
      "cell_type": "code",
      "metadata": {
        "id": "6WKFjWKuFpS2"
      },
      "source": [
        "model.compile(optimizer='rmsprop',\r\n",
        "              loss='binary_crossentropy',\r\n",
        "              metrics=['accuracy'])"
      ],
      "execution_count": null,
      "outputs": []
    },
    {
      "cell_type": "markdown",
      "metadata": {
        "id": "Gjx5r_QEFpS2"
      },
      "source": [
        "### **Test Results**"
      ]
    },
    {
      "cell_type": "code",
      "metadata": {
        "colab": {
          "base_uri": "https://localhost:8080/"
        },
        "id": "6J_6Hf9TFpS2",
        "outputId": "a3f9d133-478e-47cc-dd2c-344e45942c80"
      },
      "source": [
        "model.fit(x_train_val, y_train_val, epochs=4, batch_size=512)\n",
        "results = model.evaluate(x_test, y_test)"
      ],
      "execution_count": null,
      "outputs": [
        {
          "output_type": "stream",
          "text": [
            "Epoch 1/4\n",
            "79/79 [==============================] - 2s 15ms/step - loss: 0.6004 - accuracy: 0.6877\n",
            "Epoch 2/4\n",
            "79/79 [==============================] - 1s 15ms/step - loss: 0.3877 - accuracy: 0.8601\n",
            "Epoch 3/4\n",
            "79/79 [==============================] - 1s 15ms/step - loss: 0.3084 - accuracy: 0.8947\n",
            "Epoch 4/4\n",
            "79/79 [==============================] - 1s 16ms/step - loss: 0.2585 - accuracy: 0.9132\n",
            "313/313 [==============================] - 1s 3ms/step - loss: 0.2605 - accuracy: 0.8970\n"
          ],
          "name": "stdout"
        }
      ]
    },
    {
      "cell_type": "code",
      "metadata": {
        "colab": {
          "base_uri": "https://localhost:8080/"
        },
        "id": "R89dXNYoFpS3",
        "outputId": "0b9005ee-f450-44c3-ea81-394c8f34a033"
      },
      "source": [
        "results\n"
      ],
      "execution_count": null,
      "outputs": [
        {
          "output_type": "execute_result",
          "data": {
            "text/plain": [
              "[0.27777594327926636, 0.8912000060081482]"
            ]
          },
          "metadata": {
            "tags": []
          },
          "execution_count": 32
        }
      ]
    }
  ]
}